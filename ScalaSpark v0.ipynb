{
    "nbformat_minor": 1, 
    "cells": [
        {
            "source": "import org.apache.spark.ml.clustering.KMeans\nimport org.apache.spark.ml.linalg.Vector\nimport org.apache.spark.ml.linalg.Vectors\nimport org.apache.spark.ml.feature.VectorAssembler", 
            "cell_type": "code", 
            "metadata": {}, 
            "outputs": [], 
            "execution_count": 5
        }, 
        {
            "source": "\nimport com.ibm.ibmos2spark.CloudObjectStorage\n\n// @hidden_cell\nvar credentials = scala.collection.mutable.HashMap[String, String](\n    \"endPoint\"->\"https://s3.eu-geo.objectstorage.service.networklayer.com\",\n    \"apiKey\"->\"r-gQWwP4FWfRO5vqz-YxRq9zzCSE3hkmi0R9UYqduLi0\",\n    \"serviceId\"->\"iam-ServiceId-ddaaefe0-e7e7-4104-a120-68541de93756\",\n    \"iamServiceEndpoint\" -> \"https://iam.eu-gb.bluemix.net/oidc/token\")\n\nvar configurationName = \"os_c0b4e5134f3343b4bfd5ba20c9e232ea_configs\"\nvar cos = new CloudObjectStorage(sc, credentials, configurationName, \"bluemix_cos\")\n\nimport org.apache.spark.sql.SparkSession\n\nval spark = SparkSession.\n    builder().\n    getOrCreate()\nval taxiFile = spark.\n    read.format(\"org.apache.spark.sql.execution.datasources.csv.CSVFileFormat\").\n    option(\"header\", \"true\").\n    option(\"inferSchema\", \"true\").\n    load(cos.url(\"wscoursedsproject-donotdelete-pr-yv8z4ynkhes74z\", \"2013_Green_Taxi_Trip_Data.csv\"))\ntaxiFile.show(5)\n", 
            "cell_type": "code", 
            "metadata": {}, 
            "outputs": [
                {
                    "output_type": "stream", 
                    "name": "stdout", 
                    "text": "[Stage 5:=============================>                             (1 + 1) / 2]+--------------------+--------------------+------------------+---------+------------------+---------------+-------------+-----------+-----+-------+----------+------------+---------+------------+------------+---------+------------------+------------------+------------------+---------+\n|     pickup_datetime|    dropoff_datetime|Store_and_fwd_flag|rate_code|  Dropoff_latitude|Passenger_count|Trip_distance|Fare_amount|Extra|MTA_tax|Tip_amount|Tolls_amount|Ehail_fee|Total_amount|Payment_type|Trip_type|  Pickup_longitude|   Pickup_latitude| Dropoff_longitude|vendor_id|\n+--------------------+--------------------+------------------+---------+------------------+---------------+-------------+-----------+-----+-------+----------+------------+---------+------------+------------+---------+------------------+------------------+------------------+---------+\n|12/06/2013 12:11:...|12/06/2013 12:14:...|                 N|        1|40.811981201171875|              1|          0.5|        4.0|  0.0|    0.5|       0.0|         0.0|     null|         4.5|           2|     null| -73.9650650024414|  40.8061408996582|-73.96223449707031|        1|\n|11/23/2013 01:31:...|11/23/2013 02:36:...|                 N|        1|  40.5911750793457|              5|        14.16|       52.5|  0.5|    0.5|       0.0|         0.0|     null|        53.5|           1|     null|-73.95846557617188|40.719093322753906|-73.96542358398438|        2|\n|12/13/2013 10:26:...|12/13/2013 10:30:...|                 N|        1| 40.80760192871094|              1|          0.6|        5.0|  0.0|    0.5|       0.0|         0.0|     null|         5.5|           2|     null|-73.92306518554688|40.813323974609375|-73.92415618896484|        1|\n|10/05/2013 11:19:...|10/05/2013 11:29:...|                 N|        1|40.804969787597656|              1|         1.84|        9.5|  0.0|    0.5|       2.0|         0.0|     null|        12.0|           1|        1|-73.96491241455078| 40.80684280395508|-73.93901062011719|        2|\n|12/12/2013 01:33:...|12/12/2013 01:42:...|                 N|        1| 40.83502960205078|              1|         1.69|        8.5|  0.0|    0.5|       0.0|         0.0|     null|         9.0|           2|     null|-73.90247344970703|40.838836669921875|-73.92601776123047|        2|\n+--------------------+--------------------+------------------+---------+------------------+---------------+-------------+-----------+-----+-------+----------+------------+---------+------------+------------+---------+------------------+------------------+------------------+---------+\nonly showing top 5 rows\n\n"
                }
            ], 
            "execution_count": 2
        }, 
        {
            "source": "taxiFile.createOrReplaceTempView(\"taxifile\")\nval taxifence = spark.sql(\"\"\"select Dropoff_latitude,Dropoff_longitude from taxifile where\nDropoff_latitude > 40.70 and\nDropoff_latitude < 40.86 and \nDropoff_longitude > -74.02 and \nDropoff_longitude < -73.93\"\"\")\ntaxifence.count", 
            "cell_type": "code", 
            "metadata": {}, 
            "outputs": [
                {
                    "output_type": "stream", 
                    "name": "stdout", 
                    "text": "[Stage 7:=============================>                             (1 + 1) / 2]"
                }, 
                {
                    "output_type": "execute_result", 
                    "data": {
                        "text/plain": "589025"
                    }, 
                    "execution_count": 6, 
                    "metadata": {}
                }
            ], 
            "execution_count": 6
        }, 
        {
            "source": "val assembler = (new VectorAssembler())\n.setInputCols(Array(\"Dropoff_latitude\", \"Dropoff_longitude\"))\n.setOutputCol(\"features\"))\nval taxivector = assembler.transform(taxifence)\nval taxifeat = taxivector.drop(\"Dropoff_latitude\",\"Dropoff_longitude\")", 
            "cell_type": "code", 
            "metadata": {}, 
            "outputs": [
                {
                    "output_type": "execute_result", 
                    "data": {
                        "text/plain": "Name: Compile Error\nMessage: <console>:29: error: not found: type VectorAssembler\n       val assembler = (new VectorAssembler()\n                            ^\nStackTrace: "
                    }, 
                    "execution_count": 3, 
                    "metadata": {}
                }
            ], 
            "execution_count": 3
        }, 
        {
            "source": "val kmeans = new KMeans().setK(2).setSeed(1L)\nval model = kmeans.fit(taxifeat)\nprintln(\"Cluster Centers: \")\nmodel.clusterCenters.foreach(println)\n", 
            "cell_type": "code", 
            "metadata": {}, 
            "outputs": [], 
            "execution_count": null
        }
    ], 
    "metadata": {
        "kernelspec": {
            "display_name": "Scala 2.11 with Spark 2.1", 
            "name": "scala-spark21", 
            "language": "scala"
        }, 
        "language_info": {
            "mimetype": "text/x-scala", 
            "version": "2.11.8", 
            "name": "scala", 
            "pygments_lexer": "scala", 
            "file_extension": ".scala", 
            "codemirror_mode": "text/x-scala"
        }
    }, 
    "nbformat": 4
}